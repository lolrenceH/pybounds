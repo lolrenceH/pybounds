{
 "cells": [
  {
   "cell_type": "code",
   "execution_count": 10,
   "metadata": {},
   "outputs": [],
   "source": [
    "import sympy as sp\n",
    "import numpy as np\n",
    "import matplotlib.pyplot as plt"
   ]
  },
  {
   "cell_type": "code",
   "execution_count": 11,
   "metadata": {},
   "outputs": [],
   "source": [
    "sin = sp.sin\n",
    "cos = sp.cos\n",
    "tan = sp.tan\n",
    "arctan2 = sp.atan2\n",
    "sp.init_printing()"
   ]
  },
  {
   "cell_type": "markdown",
   "metadata": {},
   "source": [
    "Definte variables"
   ]
  },
  {
   "cell_type": "code",
   "execution_count": 12,
   "metadata": {},
   "outputs": [],
   "source": [
    "Vx_ego, Vy_ego, W, phi, zeta = sp.symbols(['Vx_ego', 'Vy_ego', 'W', 'phi', 'zeta']) # ground speed perpendicular to HD, .. parallel to HD, wind speed, heading, wind direction\n",
    "\n",
    "U_s, U_phi = sp.symbols(['U_s', 'U_phi']) # control signals (RL agent outputs): speed and angular velocity\n",
    "\n",
    "U_s_dot, U_phi_dot = sp.symbols([r'\\dot{U_s}', r'\\dot{U_\\phi}']) # control signals derivatives\n",
    "\n",
    "zeta_dot = sp.symbols(r'\\dot{\\zeta}') # wind direction derivative"
   ]
  },
  {
   "cell_type": "markdown",
   "metadata": {},
   "source": [
    "Get derivatives of Vx_ego and Vy_ego"
   ]
  },
  {
   "cell_type": "code",
   "execution_count": 13,
   "metadata": {},
   "outputs": [
    {
     "name": "stdout",
     "output_type": "stream",
     "text": [
      "Vx_ego_dot:\n"
     ]
    },
    {
     "data": {
      "image/png": "[encoded data removed]",
      "text/latex": [
       "$\\displaystyle - W \\dot{U_\\phi} \\cos{\\left(\\phi - \\zeta \\right)} + W \\dot{\\zeta} \\cos{\\left(\\phi - \\zeta \\right)}$"
      ],
      "text/plain": [
       "-W⋅\\dot{U_\\phi}⋅cos(φ - ζ) + W⋅\\dot{\\zeta}⋅cos(φ - ζ)"
      ]
     },
     "metadata": {},
     "output_type": "display_data"
    },
    {
     "name": "stdout",
     "output_type": "stream",
     "text": [
      "Vy_ego_dot:\n"
     ]
    },
    {
     "data": {
      "image/png": "[encoded data removed]",
      "text/latex": [
       "$\\displaystyle - W \\dot{U_\\phi} \\sin{\\left(\\phi - \\zeta \\right)} + W \\dot{\\zeta} \\sin{\\left(\\phi - \\zeta \\right)} + \\dot{U_s}$"
      ],
      "text/plain": [
       "-W⋅\\dot{U_\\phi}⋅sin(φ - ζ) + W⋅\\dot{\\zeta}⋅sin(φ - ζ) + \\dot{U_s}"
      ]
     },
     "metadata": {},
     "output_type": "display_data"
    }
   ],
   "source": [
    "W_dot = 0\n",
    "Vx_wind_ego = W*sin(zeta - phi)  # wind speed perpendicular to HD = W*sin(zeta - phi)\n",
    "Vy_wind_ego = W*cos(zeta - phi)  # wind speed parallel to HD = W*cos(zeta - phi)\n",
    "Vx_ego = Vx_wind_ego\n",
    "Vy_ego = U_s + Vy_wind_ego # ground speed parallel to HD = U_s + W*sin(zeta) \n",
    "\n",
    "Vx_ego_dot = sp.diff(Vx_wind_ego, W)*W_dot + sp.diff(Vx_wind_ego, zeta)*zeta_dot + sp.diff(Vx_wind_ego, phi)*U_phi_dot\n",
    "print(f\"Vx_ego_dot:\")\n",
    "display(Vx_ego_dot)\n",
    "\n",
    "Vy_ego_dot = sp.diff(Vy_ego, U_s)*U_s_dot + sp.diff(Vy_ego, W)*W_dot + sp.diff(Vy_ego, phi)*U_phi_dot + sp.diff(Vy_ego, zeta)*zeta_dot\n",
    "print(f\"Vy_ego_dot:\")\n",
    "display(Vy_ego_dot)\n",
    "# NOTE: sympy orders terms alphabetically. Cos is even and Sin is odd which explains the output"
   ]
  },
  {
   "cell_type": "markdown",
   "metadata": {},
   "source": [
    "full dynamics"
   ]
  },
  {
   "cell_type": "code",
   "execution_count": 14,
   "metadata": {},
   "outputs": [
    {
     "data": {
      "text/latex": [
       "$\\displaystyle \\left[\\begin{matrix}- W \\dot{U_\\phi} \\cos{\\left(\\phi - \\zeta \\right)} + W \\dot{\\zeta} \\cos{\\left(\\phi - \\zeta \\right)}\\\\- W \\dot{U_\\phi} \\sin{\\left(\\phi - \\zeta \\right)} + W \\dot{\\zeta} \\sin{\\left(\\phi - \\zeta \\right)} + \\dot{U_s}\\\\0\\\\U_{\\phi}\\\\\\dot{\\zeta}\\end{matrix}\\right]$"
      ],
      "text/plain": [
       "⎡      -W⋅\\dot{U_\\phi}⋅cos(φ - ζ) + W⋅\\dot{\\zeta}⋅cos(φ - ζ)      ⎤\n",
       "⎢                                                                 ⎥\n",
       "⎢-W⋅\\dot{U_\\phi}⋅sin(φ - ζ) + W⋅\\dot{\\zeta}⋅sin(φ - ζ) + \\dot{U_s}⎥\n",
       "⎢                                                                 ⎥\n",
       "⎢                                0                                ⎥\n",
       "⎢                                                                 ⎥\n",
       "⎢                               Uᵩ                                ⎥\n",
       "⎢                                                                 ⎥\n",
       "⎣                           \\dot{\\zeta}                           ⎦"
      ]
     },
     "execution_count": 14,
     "metadata": {},
     "output_type": "execute_result"
    }
   ],
   "source": [
    "f_Vx = sp.Matrix([1, 0, 0, 0, 0])\n",
    "f_Vy = sp.Matrix([0, 1, 0, 0, 0])\n",
    "# f_W = sp.Matrix([0, 0, 1, 0, 0]) # wind intensity is constant\n",
    "f_phi = sp.Matrix([0, 0, 0, 1, 0])\n",
    "f_zeta = sp.Matrix([0, 0, 0, 0, 1])\n",
    "full_dynamics = Vx_ego_dot*f_Vx + Vy_ego_dot*f_Vy + U_phi*f_phi + zeta_dot*f_zeta\n",
    "full_dynamics\n",
    "\n",
    "# Vx_ego, Vy_ego, W, phi, zeta "
   ]
  },
  {
   "cell_type": "markdown",
   "metadata": {},
   "source": [
    "### Observability"
   ]
  },
  {
   "cell_type": "code",
   "execution_count": 15,
   "metadata": {},
   "outputs": [
    {
     "data": {
      "text/latex": [
       "$\\displaystyle \\left[\\begin{matrix}- W \\sin{\\left(\\phi - \\zeta \\right)}\\\\U_{s} + W \\cos{\\left(\\phi - \\zeta \\right)}\\\\W\\\\\\phi\\\\\\zeta\\end{matrix}\\right]$"
      ],
      "text/plain": [
       "⎡  -W⋅sin(φ - ζ)  ⎤\n",
       "⎢                 ⎥\n",
       "⎢Uₛ + W⋅cos(φ - ζ)⎥\n",
       "⎢                 ⎥\n",
       "⎢        W        ⎥\n",
       "⎢                 ⎥\n",
       "⎢        φ        ⎥\n",
       "⎢                 ⎥\n",
       "⎣        ζ        ⎦"
      ]
     },
     "metadata": {},
     "output_type": "display_data"
    }
   ],
   "source": [
    "state_vars = sp.Matrix([Vx_ego, Vy_ego, W, phi, zeta]) # airspeed of the agent x y, wind speed, heading, wind direction\n",
    "display(state_vars)\n"
   ]
  },
  {
   "cell_type": "code",
   "execution_count": 16,
   "metadata": {},
   "outputs": [
    {
     "data": {
      "text/latex": [
       "$\\displaystyle \\left[\\begin{matrix}\\phi\\\\- U_{s}\\\\\\operatorname{atan}_{2}{\\left(U_{s} + W \\cos{\\left(\\phi - \\zeta \\right)},- W \\sin{\\left(\\phi - \\zeta \\right)} \\right)}\\end{matrix}\\right]$"
      ],
      "text/plain": [
       "⎡                   φ                   ⎤\n",
       "⎢                                       ⎥\n",
       "⎢                  -Uₛ                  ⎥\n",
       "⎢                                       ⎥\n",
       "⎣atan2(Uₛ + W⋅cos(φ - ζ), -W⋅sin(φ - ζ))⎦"
      ]
     },
     "execution_count": 16,
     "metadata": {},
     "output_type": "execute_result"
    }
   ],
   "source": [
    "h = sp.Matrix([phi, # head direction / apparent airflow angle\n",
    "               -U_s, #  Cartesian form of apparent wind flow, Y component, parallel to heading. X component is always 0; egocentric apparent wind direction = wind_allo_angle_radians - agent_angle_radians =  np.angle(- state['air_velocity']) - agent_angle_radians \n",
    "               arctan2(Vy_ego, Vx_ego) # drift angle, egocentric course direction NOTE: arctan2 may be differen from np.angle used in simulations; also angles in simulation may have been normalized by pi - pay special attention to this\n",
    "              ])\n",
    "h"
   ]
  }
 ],
 "metadata": {
  "kernelspec": {
   "display_name": "Python 3",
   "language": "python",
   "name": "python3"
  },
  "language_info": {
   "codemirror_mode": {
    "name": "ipython",
    "version": 3
   },
   "file_extension": ".py",
   "mimetype": "text/x-python",
   "name": "python",
   "nbconvert_exporter": "python",
   "pygments_lexer": "ipython3",
   "version": "3.10.12"
  }
 },
 "nbformat": 4,
 "nbformat_minor": 2
}
