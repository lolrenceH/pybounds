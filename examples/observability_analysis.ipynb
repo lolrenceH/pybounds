{
 "cells": [
  {
   "cell_type": "code",
   "execution_count": 1,
   "id": "f1902de9ebff5a59",
   "metadata": {
    "ExecuteTime": {
     "end_time": "2024-12-17T10:35:18.990777Z",
     "start_time": "2024-12-17T10:35:18.973608Z"
    }
   },
   "outputs": [
    {
     "name": "stderr",
     "output_type": "stream",
     "text": [
      "/usr/local/lib/python3.10/dist-packages/do_mpc/sysid/__init__.py:15: UserWarning: The ONNX feature is not available. Please install the full version of do-mpc to access this feature.\n",
      "  warnings.warn('The ONNX feature is not available. Please install the full version of do-mpc to access this feature.')\n",
      "/usr/local/lib/python3.10/dist-packages/do_mpc/opcua/__init__.py:14: UserWarning: The opcua feature is not available. Please install the full version of do-mpc to access this feature.\n",
      "  warnings.warn('The opcua feature is not available. Please install the full version of do-mpc to access this feature.')\n"
     ]
    }
   ],
   "source": [
    "import time\n",
    "import numpy as np\n",
    "import matplotlib as mpl\n",
    "import matplotlib.pyplot as plt\n",
    "from pybounds import Simulator, SlidingEmpiricalObservabilityMatrix, FisherObservability, SlidingFisherObservability, ObservabilityMatrixImage, colorline"
   ]
  },
  {
   "cell_type": "markdown",
   "id": "d34921fe584d11b1",
   "metadata": {},
   "source": [
    "# Define system dynamics and measurements\n",
    "This example uses a model of an insect flying in the presence of wind.\n",
    "\n",
    "See the following reference for details:\n",
    "\n",
    "Floris van Breugel\n",
    "A Nonlinear Observability Analysis of Ambient Wind Estimation with Uncalibrated Sensors, Inspired by Insect Neural Encoding\n",
    "2021 60th IEEE Conference on Decision and Control (CDC)\n",
    "DOI: 10.1109/CDC45484.2021.9683219\n",
    "\n",
    "The system dynamics are described by seven primary states:\n",
    "* altitude $z$\n",
    "* parallel velocity $v_{\\parallel}$\n",
    "* perpendicular velocity $v_{\\perp}$\n",
    "* heading $\\phi$\n",
    "* angular velocity $\\dot{\\phi}$\n",
    "* wind speed $w$\n",
    "* wind direction $\\zeta$\n",
    "\n",
    "And the system dynamics are given by\n",
    "$$\n",
    "\\dot{\\mathbf{x}} = \\begin{bmatrix} \\dot{z} \\\\ \\dot{v}_{\\parallel} \\\\ \\dot{v}_{\\perp} \\\\ \\dot{\\phi} \\\\ \\ddot{\\phi} \\\\ \\dot{w}  \\\\ \\dot{\\zeta} \\end{bmatrix} = \n",
    "f(\\mathbf{x}) = \\begin{bmatrix} \n",
    "\\dot{z} \\\\\n",
    "\\frac{1}{m}(k_{m_1}u_{\\parallel} - C_{\\parallel} a_{\\parallel}) + v_{\\perp} \\dot{\\phi} \\\\\n",
    " \\frac{1}{m}(k_{m_3}u_{\\perp} - C_{\\perp} a_{\\perp}) - v_{\\parallel} \\dot{\\phi} \\\\\n",
    "  \\dot{\\phi} \\\\\n",
    "   \\frac{1}{I}(k_{m_4}u_{\\phi} - C_{\\phi} \\dot{\\phi} + k_{m_2} u_{\\perp}) \\\\\n",
    "    \\dot{w} \\\\\n",
    "     \\dot{\\zeta} \\\\\n",
    "\\end{bmatrix}\n",
    "$$\n",
    "\n",
    "where the air velocity is given by\n",
    "\n",
    "$$\n",
    "\\begin{bmatrix} a_{\\parallel} \\\\ a_{\\perp} \\end{bmatrix} =  \\begin{bmatrix} v_{\\parallel} - w \\cos(\\phi - \\zeta) \\\\ v_{\\perp} + w \\sin(\\phi - \\zeta) \\end{bmatrix}\n",
    "$$\n",
    "The inputs $u_{\\bullet}$ are\n",
    "* parallel thrust force $u_{\\parallel}$\n",
    "* perpendicular thrust force $u_{\\perp}$\n",
    "* turning torque $u_{\\phi}$\n",
    "\n",
    "The inertia parameters (mass $m$ and inertia $I$), damping terms $C_{\\bullet}$, and motor calibration coefficients $k_{m_{\\bullet}}$ can also be considered states. Other auxiliary states, like the $x$ and $y$ position can also be added.\n",
    "\n",
    "The putative system measurements are:\n",
    "* heading $\\phi$\n",
    "* ground speed angle $\\psi$\n",
    "* apparent airflow angle $\\gamma$\n",
    "* apparent airflow magnitude $a$\n",
    "* ground speed magnitude $g$\n",
    "* optic flow $g/z$\n",
    "\n",
    "Where the measurement function is given by:\n",
    "\n",
    "$$\n",
    "\\mathbf{y} = h(\\mathbf{x}) = \\begin{bmatrix} \\phi \\\\ \\psi \\\\ \\gamma  \\\\ a \\\\ g \\\\ r \\end{bmatrix} = \n",
    "\\begin{bmatrix} \\phi \\\\\n",
    "\\arctan(v_{\\perp}/ v_{\\parallel}) \\\\\n",
    "\\arctan(a_{\\perp} / a_{\\parallel}) \\\\\n",
    "\\sqrt{a_{\\parallel}^2 + a_{\\perp}^2} \\\\\n",
    "\\sqrt{v_{\\parallel}^2 + v_{\\perp}^2} \\\\\n",
    "\\sqrt{v_{\\parallel}^2 + v_{\\perp}^2} / z \\\\\n",
    "\\end{bmatrix}\n",
    "$$\n",
    "\n"
   ]
  },
  {
   "cell_type": "markdown",
   "id": "75b6974d8c985a97",
   "metadata": {},
   "source": [
    "## Define dynamics function\n",
    "The dynamics function takes in a list of states $X$ and a list of inputs $U$ and outputs the derivative of the states.\n",
    "\n",
    "The optional state & input names must be in the same order as the states & inputs in $X$ & $U$."
   ]
  },
  {
   "cell_type": "code",
   "execution_count": 5,
   "id": "7ad8fec9",
   "metadata": {},
   "outputs": [
    {
     "name": "stdout",
     "output_type": "stream",
     "text": [
      "Loaded episode logs from /src/data/wind_sensing/apparent_wind_visual_feedback/sw_dist_logstep_wind_0.001_debug_yes_vec_norm_train_actor_std/eval/plume_14421_37e2cd4be4c96943d0341849b40f81eb/constantx5b5.pkl\n",
      "Number of episodes: 240\n",
      "Episodes contain: dict_keys(['trajectory', 'observations', 'actions', 'rewards', 'infos', 'activity'])\n"
     ]
    }
   ],
   "source": [
    "log_fname = '/src/data/wind_sensing/apparent_wind_visual_feedback/sw_dist_logstep_wind_0.001_debug_yes_vec_norm_train_actor_std/eval/plume_14421_37e2cd4be4c96943d0341849b40f81eb/constantx5b5.pkl'\n",
    "# load pkl file\n",
    "import pickle\n",
    "# with open(log_fname, 'rb') as f_handle:\n",
    "    # episode_logs = pickle.load(f_handle)\n",
    "print('Loaded episode logs from', log_fname)\n",
    "print('Number of episodes:', len(episode_logs))\n",
    "print('Episodes contain:', episode_logs[0].keys())\n",
    "print('For more info on pkl content see /src/JH_boilerplate/dev_test/env/explore_pkl.ipynb')"
   ]
  },
  {
   "cell_type": "code",
   "execution_count": null,
   "id": "db0ed309",
   "metadata": {},
   "outputs": [],
   "source": [
    "# an example of how actions are resolved\n",
    "# # head_direction_t0 = head_direction[0] # norm'd by pi\n",
    "# head_direction_t1 = head_direction[1] # norm'd by pi\n",
    "# agent_angle_complex_vec_t0 = episode_log['infos'][0][0]['angle']\n",
    "# agent_angle_complex_vec_t1 = episode_log['infos'][1][0]['angle']\n",
    "# print(f\"agent_angle_t0: {agent_angle_complex_vec_t0}\")\n",
    "# print(f\"agent_angle_t1: {agent_angle_complex_vec_t1}\")\n",
    "\n",
    "# agent_angle_rad_t0 = np.angle(agent_angle_complex_vec_t0[0] + 1j*agent_angle_complex_vec_t0[1], deg=False) # not norm'd by pi 0.30103736300307615\n",
    "# agent_angle_rad_t1 = np.angle(agent_angle_complex_vec_t1[0] + 1j*agent_angle_complex_vec_t1[1], deg=False) # not norm'd by pi 0.6844864019832495\n",
    "# print(f\"t0 angle rad = {agent_angle_rad_t0}\")\n",
    "# print(f\"t1 angle rad = {agent_angle_rad_t1}\")\n",
    "\n",
    "\n",
    "# action_t0 = episode_log['actions'][0]\n",
    "# action_t1 = episode_log['actions'][1]\n",
    "# action_t0_sq = np.clip((np.tanh(action_t0) + 1)/2, 0.0, 1.0) # squash action\n",
    "# action_t1_sq = np.clip((np.tanh(action_t1) + 1)/2, 0.0, 1.0) # squash action\n",
    "# turn_action_t0 = action_t0_sq[1]\n",
    "# turn_action_t1 = action_t1_sq[1]\n",
    "# # turn_action = 1 - turn_action # invert turn action\n",
    "# # print(f\"turn_action: {turn_action}\")\n",
    "# # # print(f\"action_t0_sq: {action_t0_sq}\")\n",
    "# turn_capacity = 6.25*np.pi\n",
    "# turnx = 1\n",
    "# dt = env_dt = 0.04\n",
    "# # print(f\"turn by {turn_capacity*turnx*(turn_action_t1 - 0.5)*dt} rad\")\n",
    "# my_agent_angle_rad_t1 = agent_angle_rad_t0 + turn_capacity*turnx*(turn_action_t1 - 0.5)*dt # in radians; (Turn~[0, 1], with 0.5 = no turn, <0.5 turn cw, >0.5 turn ccw)\n",
    "# print(f\"sim new angle rad = {my_agent_angle_rad_t1}\")\n",
    "\n",
    "\n"
   ]
  },
  {
   "cell_type": "code",
   "execution_count": 14,
   "id": "b2a1b72d",
   "metadata": {},
   "outputs": [
    {
     "data": {
      "text/plain": [
       "dict_keys(['t_val', 'tidx', 'flipx', 'location', 'location_last', 'location_initial', 'stray_distance', 'ambient_wind', 'angle', 'reward', 'r_radial_step', 'movex', 'done', 'radiusx', 'air_velcity', 'ground_velocity', 'wind_obs', 'odor_obs', 'allocentric_head_direction', 'egocentric_course_direction'])"
      ]
     },
     "execution_count": 14,
     "metadata": {},
     "output_type": "execute_result"
    }
   ],
   "source": [
    "# episode_logs[0]['trajectory'] # x, y locations \n",
    "# episode_logs[0]['observations'] # \n",
    "# episode_logs[0]['actions'] # needs to be squashed \n",
    "episode_logs[0]['infos'][0][0].keys() # needs to be squashed \n"
   ]
  },
  {
   "cell_type": "code",
   "execution_count": 2,
   "id": "afa5cf8d9cf2a145",
   "metadata": {
    "ExecuteTime": {
     "end_time": "2024-12-17T10:35:19.054565Z",
     "start_time": "2024-12-17T10:35:19.038557Z"
    }
   },
   "outputs": [],
   "source": [
    "state_names = ['x',  # x position [m]\n",
    "               'y',  # y position [m]\n",
    "               'v_para',  # parallel ground velocity [m/s]\n",
    "               'v_perp',  # perpendicular ground velocity [m/s]\n",
    "               'phi', # heading [rad]\n",
    "               'phi_dot',  # angular velocity [rad/s]\n",
    "               'w',  # ambient wind speed [m/s]\n",
    "               'zeta',  # ambient wind angle [rad]\n",
    "               ]\n",
    "\n",
    "input_names = ['u_para',  # translational speed [m/s]\n",
    "               'u_phi'  # angular velocity [rad/s]\n",
    "               ] \n",
    "def f(X, U):\n",
    "    '''\n",
    "    Return Xdot given X and U\n",
    "    \n",
    "    X: state vector\n",
    "        v_para: ground velocity in the direction parallel to head direction (egocentric frame) [m/s]\n",
    "        v_perp: ground velocity perpendicular to head direction (egocentric frame) [m/s]\n",
    "        phi: heading [rad]\n",
    "        w: wind speed [m/s]\n",
    "        zeta: wind angle [rad]\n",
    "    U: input vector\n",
    "        u_para: translational speed [m/s]\n",
    "        u_phi: angular velocity [rad/s]\n",
    "        u_para_dot: translational acceleration [m/s^2]\n",
    "    '''\n",
    "    v_para, v_perp, phi, phi_dot, w, zeta = X # TODO calculate phi_dot from agent trajectory\n",
    "    \n",
    "    # Inputs\n",
    "    u_para, u_phi, u_para_dot = U \n",
    "    \n",
    "    # Air velocity - known from agent trajectory no need to calculate\n",
    "    # a_para = v_para - w * np.cos(phi - zeta)\n",
    "    # a_perp = v_perp + w * np.sin(phi - zeta)\n",
    "    # air_velocity_para = u_speed\n",
    "    \n",
    "    # movement due to wind, in the agent frame\n",
    "    Vx_wind_ego = w*np.sin(zeta - phi)  # wind speed perpendicular to HD = W*sin(zeta - phi)\n",
    "    Vy_wind_ego = w*np.cos(zeta - phi)  # wind speed parallel to HD = W*cos(zeta - phi)\n",
    "    \n",
    "    # Ground velocity in the agent frame\n",
    "    Vx_ego = Vx_wind_ego\n",
    "    Vy_ego = u_speed + Vy_wind_ego # ground speed parallel to HD = U_s + W*sin(zeta) \n",
    "    Vx_ego_dot = -w * np.cos(phi - zeta) * phi_dot + w * np.cos(phi - zeta) * zeta_dot\n",
    "    Vy_ego_dot = -w * np.sin(phi - zeta) * phi_dot + w * np.cos(phi - zeta) * zeta_dot + u_speed_dot\n",
    "    # Agent action\n",
    "    x_old, y_old = x, y\n",
    "    u_x = u_para * np.cos(phi) * 2.0 # Max agent speed in m/s\n",
    "    x = x_old + a_para * np.cos(phi)\n",
    "    y = y_old + a_para * np.sin(phi)\n",
    "    a = phi * 6.25*np.pi # Max agent CW/CCW turn per second\n",
    "    \n",
    "    # Agent heading\n",
    "    phi_dot = u_phi\n",
    "\n",
    "    # Other dynamics\n",
    "    x_dot = v_para * np.cos(phi) - v_perp * np.sin(phi)\n",
    "    y_dot = v_para * np.sin(phi) + v_perp * np.cos(phi)\n",
    "    w_dot = 0*x # wind speed is constant\n",
    "    zeta_dot = 0*x # wind angle is constant\n",
    "\n",
    "    # Package and return xdot\n",
    "    x_dot = [x_dot, y_dot, phi_dot, w_dot, zeta_dot]\n",
    "\n",
    "    return x_dot"
   ]
  },
  {
   "cell_type": "markdown",
   "id": "7d67631fba42a02c",
   "metadata": {},
   "source": [
    "## Define measurement function\n",
    "The measurement function takes in a list of states $X$ and a list of inputs $U$ and outputs the measurements $Y$.\n",
    "\n",
    "The optional measurement names must be in the same order as the measurements in $Y$."
   ]
  },
  {
   "cell_type": "code",
   "execution_count": 4,
   "id": "fd93d3dbf5535e4b",
   "metadata": {
    "ExecuteTime": {
     "end_time": "2024-12-17T10:35:19.069797Z",
     "start_time": "2024-12-17T10:35:19.055558Z"
    }
   },
   "outputs": [],
   "source": [
    "measurement_names = ['phi', 'psi', 'gamma']\n",
    "def h(X, U):\n",
    "    '''\n",
    "    Measurement functions - input is the state and control input; output is the measurement\n",
    "    v_para: ground velocity in the direction parallel to head direction (egocentric frame) [m/s]\n",
    "    v_perp: ground velocity perpendicular to head direction (egocentric frame) [m/s]\n",
    "    phi: heading [rad]\n",
    "    w: wind speed [m/s]\n",
    "    zeta: wind angle [rad]\n",
    "    '''\n",
    "    # States\n",
    "    v_para, v_perp, phi, w, zeta = X\n",
    "    # x, y, v_para, v_perp, phi, phi_dot, w, zeta = X # not sure why I'd include x and y here \n",
    "\n",
    "    # Inputs\n",
    "    u_para, u_phi, u_para_dot = U\n",
    "    \n",
    "    # Air velocity\n",
    "    # a_para = v_para - w * np.cos(phi - zeta)\n",
    "    # a_perp = v_perp + w * np.sin(phi - zeta)\n",
    "    # a = np.sqrt(a_para ** 2 + a_perp ** 2) # air velocity magnitude\n",
    "    # gamma = np.arctan2(a_perp, a_para)  # air velocity angle\n",
    "    \n",
    "    # Apparent airflow\n",
    "    A_para = -u_para # equal and opposite to translational speed which is in line with head direction and thus have only a parallel component\n",
    "    \n",
    "    # Course direction in fly reference frame\n",
    "    # g = np.sqrt(v_para ** 2 + v_perp ** 2) # ground speed\n",
    "    psi = np.arctan2(v_perp, v_para) # drift angle / egocentric course angle # TODO numerically check if this is actually the drift angle - yes according to Ben\n",
    "    \n",
    "    # Unwrap angles TODO what is this?\n",
    "    if np.array(phi).ndim > 0:\n",
    "        if np.array(phi).shape[0] > 1:\n",
    "            phi = np.unwrap(phi)\n",
    "            psi = np.unwrap(psi)\n",
    "            # gamma = np.unwrap(gamma)\n",
    "\n",
    "    # Measurements\n",
    "    Y  = [phi, A_para, psi]\n",
    "\n",
    "    # Return measurement\n",
    "    return Y\n"
   ]
  },
  {
   "cell_type": "markdown",
   "id": "4ce822781609ebf9",
   "metadata": {},
   "source": [
    "## Set time-step"
   ]
  },
  {
   "cell_type": "code",
   "execution_count": 5,
   "id": "af1c2296132affea",
   "metadata": {
    "ExecuteTime": {
     "end_time": "2024-12-17T10:35:19.085302Z",
     "start_time": "2024-12-17T10:35:19.070797Z"
    }
   },
   "outputs": [],
   "source": [
    "dt = 0.04  # [s]"
   ]
  },
  {
   "cell_type": "markdown",
   "id": "9aba91f3406a7ff3",
   "metadata": {},
   "source": [
    "# Create simulator object"
   ]
  },
  {
   "cell_type": "code",
   "execution_count": 6,
   "id": "a2ba514ec911b5e9",
   "metadata": {
    "ExecuteTime": {
     "end_time": "2024-12-17T10:35:19.132932Z",
     "start_time": "2024-12-17T10:35:19.086303Z"
    }
   },
   "outputs": [],
   "source": [
    "simulator = Simulator(f, h, dt=dt, state_names=state_names, input_names=input_names, measurement_names=measurement_names)\n",
    "\n",
    "# Can also set the number of state (n) & inputs (m0 instead of state & input names)\n",
    "# simulator = Simulator(f, h, dt=dt, n=len(state_names), m=len(input_names))"
   ]
  },
  {
   "cell_type": "markdown",
   "id": "127d2f3162364469",
   "metadata": {},
   "source": [
    "# Set up model predictive control"
   ]
  },
  {
   "cell_type": "code",
   "execution_count": 7,
   "id": "13b0c9293c91188f",
   "metadata": {
    "ExecuteTime": {
     "end_time": "2024-12-17T10:35:19.148931Z",
     "start_time": "2024-12-17T10:35:19.133932Z"
    }
   },
   "outputs": [],
   "source": [
    "# # Parameters in SI units\n",
    "# m = 0.25e-6  # [kg]\n",
    "# I = 5.2e-13  # [N*m*s^2] yaw mass moment of inertia: 10.1242/jeb.02369\n",
    "# # I = 4.971e-12  # [N*m*s^2] yaw mass moment of inertia: 10.1242/jeb.038778\n",
    "# C_phi = 27.36e-12  # [N*m*s] yaw damping: 10.1242/jeb.038778\n",
    "# C_para = m / 0.170  # [N*s/m] calculate using the mass and time constant reported in 10.1242/jeb.098665\n",
    "# C_perp = C_para  # assume same as C_para\n",
    "\n",
    "# # Scale Parameters\n",
    "# m = m * 1e6  # [mg]\n",
    "# I = I * 1e6 * (1e3) ** 2  # [mg*mm/s^2 * mm*s^2]\n",
    "# C_phi = C_phi * 1e6 * (1e3) ** 2  # [mg*mm/s^2 *m*s]\n",
    "# C_para = C_para * 1e6  # [mg/s]\n",
    "# C_perp = C_perp * 1e6  # [mg/s]"
   ]
  },
  {
   "cell_type": "code",
   "execution_count": 8,
   "id": "2f8d07feb5a0d633",
   "metadata": {
    "ExecuteTime": {
     "end_time": "2024-12-17T10:35:19.164936Z",
     "start_time": "2024-12-17T10:35:19.150932Z"
    }
   },
   "outputs": [],
   "source": [
    "# # Define the set-point(s) to follow\n",
    "# tsim = np.arange(0, 0.4, step=dt)\n",
    "\n",
    "# setpoint = {'x': 0.0 * np.ones_like(tsim),\n",
    "#             'y': 0.0 * np.ones_like(tsim),\n",
    "#             'z': 0.2 * np.ones_like(tsim),\n",
    "#             'v_para': 0.3 * np.ones_like(tsim) + 0.01*tsim,\n",
    "#             'v_perp': 0.01 * np.ones_like(tsim) + 0.01*tsim,\n",
    "#             'phi': (np.pi/4) * np.ones_like(tsim),\n",
    "#             'phi_dot': 0.0*np.ones_like(tsim),\n",
    "#             'w': 0.4 * np.ones_like(tsim),\n",
    "#             'zeta': (np.pi) * np.ones_like(tsim),\n",
    "#             'm': m * np.ones_like(tsim),\n",
    "#             'I': I * np.ones_like(tsim),\n",
    "#             'C_para': C_para * np.ones_like(tsim),\n",
    "#             'C_perp': C_perp * np.ones_like(tsim),\n",
    "#             'C_phi': C_phi * np.ones_like(tsim),\n",
    "#             'km1': 1.0 * np.ones_like(tsim),\n",
    "#             'km2': 0.0 * np.ones_like(tsim),\n",
    "#             'km3': 1.0 * np.ones_like(tsim),\n",
    "#             'km4': 1.0 * np.ones_like(tsim),\n",
    "#             }\n",
    "\n",
    "# # Add a turn\n",
    "# setpoint['phi'][20:] = setpoint['phi'][20] - np.pi/2\n",
    "\n",
    "# # Update the simulator set-point\n",
    "# simulator.update_dict(setpoint, name='setpoint')"
   ]
  },
  {
   "cell_type": "code",
   "execution_count": 9,
   "id": "72a418128ff8725f",
   "metadata": {
    "ExecuteTime": {
     "end_time": "2024-12-17T10:35:19.180443Z",
     "start_time": "2024-12-17T10:35:19.165935Z"
    }
   },
   "outputs": [],
   "source": [
    "# # Define cost function: penalize the squared error between parallel & perpendicular velocity and heading\n",
    "# cost = ((simulator.model.x['v_para'] - simulator.model.tvp['v_para_set']) ** 2 + \n",
    "#         (simulator.model.x['v_perp'] - simulator.model.tvp['v_perp_set']) ** 2 +\n",
    "#         (simulator.model.x['phi'] - simulator.model.tvp['phi_set']) ** 2)\n",
    "\n",
    "# # Set cost function\n",
    "# simulator.mpc.set_objective(mterm=cost, lterm=cost)"
   ]
  },
  {
   "cell_type": "code",
   "execution_count": 10,
   "id": "a255e61fcae958ac",
   "metadata": {
    "ExecuteTime": {
     "end_time": "2024-12-17T10:35:19.196443Z",
     "start_time": "2024-12-17T10:35:19.181442Z"
    }
   },
   "outputs": [],
   "source": [
    "# # Set input penalty: make this small for accurate state following\n",
    "# simulator.mpc.set_rterm(u_para=1e-6, u_perp=1e-6, u_phi=1e-6)"
   ]
  },
  {
   "cell_type": "markdown",
   "id": "c392f54a07498b2f",
   "metadata": {},
   "source": [
    "# Run model predictive control"
   ]
  },
  {
   "cell_type": "code",
   "execution_count": null,
   "id": "2a63020acb8fcc2d",
   "metadata": {
    "ExecuteTime": {
     "end_time": "2024-12-17T10:35:20.298490Z",
     "start_time": "2024-12-17T10:35:19.198442Z"
    }
   },
   "outputs": [],
   "source": [
    "# st = time.time()\n",
    "# t_sim, x_sim, u_sim, y_sim = simulator.simulate(x0=None, mpc=True, return_full_output=True)\n",
    "# et = time.time()\n",
    "# print('elapsed time:', et-st)"
   ]
  },
  {
   "cell_type": "code",
   "execution_count": null,
   "id": "bcd945f675a156dc",
   "metadata": {
    "ExecuteTime": {
     "end_time": "2024-12-17T10:35:21.297835Z",
     "start_time": "2024-12-17T10:35:20.299490Z"
    }
   },
   "outputs": [],
   "source": [
    "# # Plot set-point tracking\n",
    "# # Note that the cost function defined above & the controllability of each state will determine if a set-point is tracked or not\n",
    "# simulator.plot('setpoint')"
   ]
  },
  {
   "cell_type": "code",
   "execution_count": null,
   "id": "e8f0b148d7f9608f",
   "metadata": {
    "ExecuteTime": {
     "end_time": "2024-12-17T10:35:21.500202Z",
     "start_time": "2024-12-17T10:35:21.298836Z"
    }
   },
   "outputs": [],
   "source": [
    "# # Plot inputs\n",
    "# simulator.plot('u')"
   ]
  },
  {
   "cell_type": "markdown",
   "id": "238d4ce232258a9d",
   "metadata": {},
   "source": [
    "# Re-run simulator with MPC inputs\n",
    "This step isn't required, but it shows how the closed-loop MOC inputs can be replayed in open-loop to get the same state trajectory"
   ]
  },
  {
   "cell_type": "code",
   "execution_count": 13,
   "id": "32a99e267401caad",
   "metadata": {
    "ExecuteTime": {
     "end_time": "2024-12-17T10:35:21.531213Z",
     "start_time": "2024-12-17T10:35:21.501211Z"
    }
   },
   "outputs": [],
   "source": [
    "t_sim, x_sim, u_sim, y_sim = simulator.simulate(x0=None, mpc=False, u=u_sim, return_full_output=True)"
   ]
  },
  {
   "cell_type": "code",
   "execution_count": null,
   "id": "4a9ed9ddffb73216",
   "metadata": {
    "ExecuteTime": {
     "end_time": "2024-12-17T10:35:22.497984Z",
     "start_time": "2024-12-17T10:35:21.532202Z"
    }
   },
   "outputs": [],
   "source": [
    "# Plot state\n",
    "simulator.plot('x')"
   ]
  },
  {
   "cell_type": "markdown",
   "id": "f1813a852673708f",
   "metadata": {},
   "source": [
    "# Observability"
   ]
  },
  {
   "cell_type": "markdown",
   "id": "428e7ecd6c29e122",
   "metadata": {},
   "source": [
    "## Construct observability matrix in sliding windows"
   ]
  },
  {
   "cell_type": "code",
   "execution_count": 15,
   "id": "1816060219c9f891",
   "metadata": {
    "ExecuteTime": {
     "end_time": "2024-12-17T10:35:22.513429Z",
     "start_time": "2024-12-17T10:35:22.498972Z"
    }
   },
   "outputs": [],
   "source": [
    "w = 4  # window size, set to None to use entire time-series as one window"
   ]
  },
  {
   "cell_type": "code",
   "execution_count": null,
   "id": "6d3208ab8cebb1f8",
   "metadata": {
    "ExecuteTime": {
     "end_time": "2024-12-17T10:35:25.079497Z",
     "start_time": "2024-12-17T10:35:22.515430Z"
    }
   },
   "outputs": [],
   "source": [
    "# Construct O in sliding windows\n",
    "st = time.time()\n",
    "SEOM = SlidingEmpiricalObservabilityMatrix(simulator, t_sim, x_sim, u_sim, w=w, eps=1e-4)\n",
    "et = time.time()\n",
    "print('elapsed time:', et-st)"
   ]
  },
  {
   "cell_type": "code",
   "execution_count": 17,
   "id": "2ea89c4c3fdd5747",
   "metadata": {
    "ExecuteTime": {
     "end_time": "2024-12-17T10:35:25.094929Z",
     "start_time": "2024-12-17T10:35:25.079497Z"
    }
   },
   "outputs": [],
   "source": [
    "# Get O's\n",
    "O_sliding = SEOM.get_observability_matrix()"
   ]
  },
  {
   "cell_type": "code",
   "execution_count": null,
   "id": "55b15a9e5ad692e2",
   "metadata": {
    "ExecuteTime": {
     "end_time": "2024-12-17T10:35:25.110935Z",
     "start_time": "2024-12-17T10:35:25.095931Z"
    }
   },
   "outputs": [],
   "source": [
    "n_window = len(O_sliding)\n",
    "print(n_window, 'windows')"
   ]
  },
  {
   "cell_type": "code",
   "execution_count": null,
   "id": "1cedf79182d82be0",
   "metadata": {
    "ExecuteTime": {
     "end_time": "2024-12-17T10:35:25.437683Z",
     "start_time": "2024-12-17T10:35:25.111938Z"
    }
   },
   "outputs": [],
   "source": [
    "# Visualize first sliding observability matrix, this will throw errors if O is too big\n",
    "OI = ObservabilityMatrixImage(O_sliding[0], cmap='bwr')\n",
    "OI.plot(scale=1.0)"
   ]
  },
  {
   "cell_type": "markdown",
   "id": "71c0469dc7863680",
   "metadata": {},
   "source": [
    "## Compute Fisher information matrix & inverse for first window\n"
   ]
  },
  {
   "cell_type": "code",
   "execution_count": 20,
   "id": "451fd6cf6383e439",
   "metadata": {
    "ExecuteTime": {
     "end_time": "2024-12-17T10:35:25.453689Z",
     "start_time": "2024-12-17T10:35:25.438686Z"
    }
   },
   "outputs": [],
   "source": [
    "# Set each sensor noise level\n",
    "sensor_noise = {'phi': 0.1, 'psi': 0.1, 'gamma': 0.1, 'a': 0.1, 'g': 0.1, 'r': 0.1}"
   ]
  },
  {
   "cell_type": "code",
   "execution_count": 21,
   "id": "9aaaf5056bf75fed",
   "metadata": {
    "ExecuteTime": {
     "end_time": "2024-12-17T10:35:25.469693Z",
     "start_time": "2024-12-17T10:35:25.454690Z"
    }
   },
   "outputs": [],
   "source": [
    "# Compute the Fisher information & Chernoff inverse\n",
    "FO = FisherObservability(SEOM.O_df_sliding[0], R=None, sensor_noise_dict=sensor_noise, lam=1e-6)\n",
    "\n",
    "# Can also set R directly as matrix or as scalar\n",
    "# FO = FisherObservability(SEOM.O_df_sliding[0], R=0.1*np.eye(O_sliding[0].shape[0]), lam=1e-6)\n",
    "# FO = FisherObservability(SEOM.O_df_sliding[0], R=0.1, lam=1e-6)"
   ]
  },
  {
   "cell_type": "code",
   "execution_count": null,
   "id": "7473d533d4f1910c",
   "metadata": {
    "ExecuteTime": {
     "end_time": "2024-12-17T10:35:25.484720Z",
     "start_time": "2024-12-17T10:35:25.470694Z"
    }
   },
   "outputs": [],
   "source": [
    "# Get the Fisher information, inverse, and R matrix\n",
    "F, F_inv, R = FO.get_fisher_information()\n",
    "F_inv"
   ]
  },
  {
   "cell_type": "markdown",
   "id": "c36ace27d3f55c0f",
   "metadata": {},
   "source": [
    "## Compute Fisher information matrix & inverse for each sliding window"
   ]
  },
  {
   "cell_type": "code",
   "execution_count": 23,
   "id": "94b30b60ed5543e9",
   "metadata": {
    "ExecuteTime": {
     "end_time": "2024-12-17T10:35:25.499573Z",
     "start_time": "2024-12-17T10:35:25.484720Z"
    }
   },
   "outputs": [],
   "source": [
    "# Choose sensors to use from O\n",
    "o_sensors = ['phi', 'psi', 'gamma']\n",
    "\n",
    "# Chose states to use from O\n",
    "o_states = ['v_para', 'v_perp', 'phi', 'phi_dot', 'w', 'zeta', 'z', 'm', 'I', 'C_para', 'C_perp', 'C_phi']\n",
    "\n",
    "# Choose time-steps to use from O\n",
    "window_size = 4\n",
    "o_time_steps = np.arange(0, window_size, step=1)"
   ]
  },
  {
   "cell_type": "code",
   "execution_count": 24,
   "id": "b77d1363934e9933",
   "metadata": {
    "ExecuteTime": {
     "end_time": "2024-12-17T10:35:25.687098Z",
     "start_time": "2024-12-17T10:35:25.500574Z"
    }
   },
   "outputs": [],
   "source": [
    "# Compute the Fisher information & inverse for each window and store the minimum error variance\n",
    "SFO = SlidingFisherObservability(SEOM.O_df_sliding, time=SEOM.t_sim, lam=1e-6, R=None, sensor_noise_dict=sensor_noise,\n",
    "                                 states=o_states, sensors=o_sensors, time_steps=o_time_steps, w=None)"
   ]
  },
  {
   "cell_type": "code",
   "execution_count": 25,
   "id": "bf67c35cfee44ceb",
   "metadata": {
    "ExecuteTime": {
     "end_time": "2024-12-17T10:35:25.702381Z",
     "start_time": "2024-12-17T10:35:25.688100Z"
    }
   },
   "outputs": [],
   "source": [
    "# Pull out minimum error variance, 'time' column is the time vector shifted forward by w/2 and 'time_initial' is the original time\n",
    "EV_aligned = SFO.get_minimum_error_variance()"
   ]
  },
  {
   "cell_type": "code",
   "execution_count": null,
   "id": "c35a1af82e1d008a",
   "metadata": {
    "ExecuteTime": {
     "end_time": "2024-12-17T10:35:25.718380Z",
     "start_time": "2024-12-17T10:35:25.703380Z"
    }
   },
   "outputs": [],
   "source": [
    "EV_aligned"
   ]
  },
  {
   "cell_type": "code",
   "execution_count": null,
   "id": "184d5cc91eca4d6",
   "metadata": {
    "ExecuteTime": {
     "end_time": "2024-12-17T10:35:25.920073Z",
     "start_time": "2024-12-17T10:35:25.719380Z"
    }
   },
   "outputs": [],
   "source": [
    "# Visualize observability matrix subset\n",
    "OI = ObservabilityMatrixImage(SFO.FO[-1].O)\n",
    "OI.plot()"
   ]
  },
  {
   "cell_type": "markdown",
   "id": "24626b76820b9717",
   "metadata": {},
   "source": [
    "# Plot error variance as color on state time-series"
   ]
  },
  {
   "cell_type": "code",
   "execution_count": null,
   "id": "331553b8964df341",
   "metadata": {
    "ExecuteTime": {
     "end_time": "2024-12-17T10:35:25.935072Z",
     "start_time": "2024-12-17T10:35:25.921074Z"
    }
   },
   "outputs": [],
   "source": [
    "EV_no_nan = EV_aligned.fillna(method='bfill').fillna(method='ffill')"
   ]
  },
  {
   "cell_type": "code",
   "execution_count": null,
   "id": "fc7f73e5912fcac5",
   "metadata": {
    "ExecuteTime": {
     "end_time": "2024-12-17T10:35:27.264980Z",
     "start_time": "2024-12-17T10:35:25.936071Z"
    }
   },
   "outputs": [],
   "source": [
    "states = list(SFO.FO[0].O.columns)\n",
    "n_state = len(states)\n",
    "\n",
    "fig, ax = plt.subplots(n_state, 2, figsize=(6, n_state*2), dpi=150)\n",
    "ax = np.atleast_2d(ax)\n",
    "\n",
    "cmap = 'inferno_r'\n",
    "\n",
    "min_ev = np.min(EV_no_nan.iloc[:, 2:].values)\n",
    "max_ev = np.max(EV_no_nan.iloc[:, 2:].values)\n",
    "\n",
    "log_tick_high = int(np.ceil(np.log10(max_ev)))\n",
    "log_tick_low = int(np.floor(np.log10(min_ev)))\n",
    "cnorm = mpl.colors.LogNorm(10**log_tick_low, 10**log_tick_high)\n",
    "\n",
    "for n, state_name in enumerate(states):\n",
    "    # colorline(t_sim, x_sim[state_name], EV_no_nan[state_name].values, ax=ax[n, 0], cmap=cmap, norm=cnorm)\n",
    "    colorline(x_sim['x'], x_sim['y'], EV_no_nan[state_name].values, ax=ax[n, 0], cmap=cmap, norm=cnorm)\n",
    "    colorline(t_sim, EV_no_nan[state_name].values, EV_no_nan[state_name].values, ax=ax[n, 1], cmap=cmap, norm=cnorm)\n",
    "\n",
    "    # Colorbar\n",
    "    cax = ax[n, -1].inset_axes([1.03, 0.0, 0.04, 1.0])\n",
    "    cbar = fig.colorbar(mpl.cm.ScalarMappable(norm=cnorm, cmap=cmap), cax=cax,\n",
    "                        ticks=np.logspace(log_tick_low, log_tick_high, log_tick_high-log_tick_low + 1))\n",
    "    cbar.set_label('min. EV: ' + state_name, rotation=270, fontsize=7, labelpad=8)\n",
    "    cbar.ax.tick_params(labelsize=6)\n",
    "    \n",
    "    ax[n, 0].set_ylim(np.min(x_sim['y']) - 0.01, np.max(x_sim['y']) + 0.01)\n",
    "    ax[n, 0].set_xlim(np.min(x_sim['x']) - 0.01, np.max(x_sim['x']) + 0.01)\n",
    "    ax[n, 0].set_ylabel('y', fontsize=7)\n",
    "    ax[n, 0].set_xlabel('x', fontsize=7)\n",
    "    ax[n, 0].set_aspect(1.0)\n",
    "\n",
    "    ax[n, 1].set_ylim(10**log_tick_low, 10**log_tick_high)\n",
    "    ax[n, 1].set_yscale('log')\n",
    "    ax[n, 1].set_ylabel('min. EV: ' + state_name, fontsize=7)\n",
    "    ax[n, 1].set_yticks(np.logspace(log_tick_low, log_tick_high, log_tick_high-log_tick_low + 1))\n",
    "\n",
    "\n",
    "for a in ax.flat:\n",
    "    a.tick_params(axis='both', labelsize=6)\n",
    "    \n",
    "for a in ax[:, 1]:\n",
    "    a.set_xlabel('time (s)', fontsize=7)\n",
    "    a.set_xlim(-0.1, t_sim[-1] + 0.1)\n",
    "    \n",
    "# for a in ax[:, 1]:\n",
    "#     a.set_xlim(-0.1, t_sim[-1] + 0.1)\n",
    "\n",
    "fig.subplots_adjust(left=None, bottom=None, right=None, top=None, wspace=0.3, hspace=0.4)\n",
    "\n",
    "plt.show()"
   ]
  },
  {
   "cell_type": "code",
   "execution_count": 59,
   "id": "25b2cb62a82362e5",
   "metadata": {
    "ExecuteTime": {
     "end_time": "2024-12-17T10:35:27.280486Z",
     "start_time": "2024-12-17T10:35:27.264980Z"
    }
   },
   "outputs": [],
   "source": []
  }
 ],
 "metadata": {
  "kernelspec": {
   "display_name": "Python 3",
   "language": "python",
   "name": "python3"
  },
  "language_info": {
   "codemirror_mode": {
    "name": "ipython",
    "version": 3
   },
   "file_extension": ".py",
   "mimetype": "text/x-python",
   "name": "python",
   "nbconvert_exporter": "python",
   "pygments_lexer": "ipython3",
   "version": "3.10.12"
  }
 },
 "nbformat": 4,
 "nbformat_minor": 5
}
