{
 "cells": [
  {
   "cell_type": "code",
   "execution_count": 3,
   "id": "f1902de9ebff5a59",
   "metadata": {
    "ExecuteTime": {
     "end_time": "2024-12-17T10:35:18.990777Z",
     "start_time": "2024-12-17T10:35:18.973608Z"
    }
   },
   "outputs": [],
   "source": [
    "import time\n",
    "import numpy as np\n",
    "import matplotlib as mpl\n",
    "import matplotlib.pyplot as plt\n",
    "from pybounds import Simulator, SlidingEmpiricalObservabilityMatrix, FisherObservability, SlidingFisherObservability, ObservabilityMatrixImage, colorline"
   ]
  },
  {
   "cell_type": "markdown",
   "id": "d34921fe584d11b1",
   "metadata": {},
   "source": [
    "# Define system dynamics and measurements\n",
    "This example uses a model of an insect flying in the presence of wind.\n",
    "\n",
    "See the following reference for details:\n",
    "\n",
    "Floris van Breugel\n",
    "A Nonlinear Observability Analysis of Ambient Wind Estimation with Uncalibrated Sensors, Inspired by Insect Neural Encoding\n",
    "2021 60th IEEE Conference on Decision and Control (CDC)\n",
    "DOI: 10.1109/CDC45484.2021.9683219\n",
    "\n",
    "The system dynamics are described by seven primary states:\n",
    "* altitude $z$\n",
    "* parallel velocity $v_{\\parallel}$\n",
    "* perpendicular velocity $v_{\\perp}$\n",
    "* heading $\\phi$\n",
    "* angular velocity $\\dot{\\phi}$\n",
    "* wind speed $w$\n",
    "* wind direction $\\zeta$\n",
    "\n",
    "And the system dynamics are given by\n",
    "$$\n",
    "\\dot{\\mathbf{x}} = \\begin{bmatrix} \\dot{z} \\\\ \\dot{v}_{\\parallel} \\\\ \\dot{v}_{\\perp} \\\\ \\dot{\\phi} \\\\ \\ddot{\\phi} \\\\ \\dot{w}  \\\\ \\dot{\\zeta} \\end{bmatrix} = \n",
    "f(\\mathbf{x}) = \\begin{bmatrix} \n",
    "\\dot{z} \\\\\n",
    "\\frac{1}{m}(k_{m_1}u_{\\parallel} - C_{\\parallel} a_{\\parallel}) + v_{\\perp} \\dot{\\phi} \\\\\n",
    " \\frac{1}{m}(k_{m_3}u_{\\perp} - C_{\\perp} a_{\\perp}) - v_{\\parallel} \\dot{\\phi} \\\\\n",
    "  \\dot{\\phi} \\\\\n",
    "   \\frac{1}{I}(k_{m_4}u_{\\phi} - C_{\\phi} \\dot{\\phi} + k_{m_2} u_{\\perp}) \\\\\n",
    "    \\dot{w} \\\\\n",
    "     \\dot{\\zeta} \\\\\n",
    "\\end{bmatrix}\n",
    "$$\n",
    "\n",
    "where the air velocity is given by\n",
    "\n",
    "$$\n",
    "\\begin{bmatrix} a_{\\parallel} \\\\ a_{\\perp} \\end{bmatrix} =  \\begin{bmatrix} v_{\\parallel} - w \\cos(\\phi - \\zeta) \\\\ v_{\\perp} + w \\sin(\\phi - \\zeta) \\end{bmatrix}\n",
    "$$\n",
    "The inputs $u_{\\bullet}$ are\n",
    "* parallel thrust force $u_{\\parallel}$\n",
    "* perpendicular thrust force $u_{\\perp}$\n",
    "* turning torque $u_{\\phi}$\n",
    "\n",
    "The inertia parameters (mass $m$ and inertia $I$), damping terms $C_{\\bullet}$, and motor calibration coefficients $k_{m_{\\bullet}}$ can also be considered states. Other auxiliary states, like the $x$ and $y$ position can also be added.\n",
    "\n",
    "The putative system measurements are:\n",
    "* heading $\\phi$\n",
    "* ground speed angle $\\psi$\n",
    "* apparent airflow angle $\\gamma$\n",
    "* apparent airflow magnitude $a$\n",
    "* ground speed magnitude $g$\n",
    "* optic flow $g/z$\n",
    "\n",
    "Where the measurement function is given by:\n",
    "\n",
    "$$\n",
    "\\mathbf{y} = h(\\mathbf{x}) = \\begin{bmatrix} \\phi \\\\ \\psi \\\\ \\gamma  \\\\ a \\\\ g \\\\ r \\end{bmatrix} = \n",
    "\\begin{bmatrix} \\phi \\\\\n",
    "\\arctan(v_{\\perp}/ v_{\\parallel}) \\\\\n",
    "\\arctan(a_{\\perp} / a_{\\parallel}) \\\\\n",
    "\\sqrt{a_{\\parallel}^2 + a_{\\perp}^2} \\\\\n",
    "\\sqrt{v_{\\parallel}^2 + v_{\\perp}^2} \\\\\n",
    "\\sqrt{v_{\\parallel}^2 + v_{\\perp}^2} / z \\\\\n",
    "\\end{bmatrix}\n",
    "$$\n",
    "\n"
   ]
  },
  {
   "cell_type": "markdown",
   "id": "75b6974d8c985a97",
   "metadata": {},
   "source": [
    "## Define dynamics function\n",
    "The dynamics function takes in a list of states $X$ and a list of inputs $U$ and outputs the derivative of the states.\n",
    "\n",
    "The optional state & input names must be in the same order as the states & inputs in $X$ & $U$."
   ]
  },
  {
   "cell_type": "code",
   "execution_count": 5,
   "id": "db0ed309",
   "metadata": {},
   "outputs": [],
   "source": [
    "# an example of how actions are resolved\n",
    "# # head_direction_t0 = head_direction[0] # norm'd by pi\n",
    "# head_direction_t1 = head_direction[1] # norm'd by pi\n",
    "# agent_angle_complex_vec_t0 = episode_log['infos'][0][0]['angle']\n",
    "# agent_angle_complex_vec_t1 = episode_log['infos'][1][0]['angle']\n",
    "# print(f\"agent_angle_t0: {agent_angle_complex_vec_t0}\")\n",
    "# print(f\"agent_angle_t1: {agent_angle_complex_vec_t1}\")\n",
    "\n",
    "# agent_angle_rad_t0 = np.angle(agent_angle_complex_vec_t0[0] + 1j*agent_angle_complex_vec_t0[1], deg=False) # not norm'd by pi 0.30103736300307615\n",
    "# agent_angle_rad_t1 = np.angle(agent_angle_complex_vec_t1[0] + 1j*agent_angle_complex_vec_t1[1], deg=False) # not norm'd by pi 0.6844864019832495\n",
    "# print(f\"t0 angle rad = {agent_angle_rad_t0}\")\n",
    "# print(f\"t1 angle rad = {agent_angle_rad_t1}\")\n",
    "\n",
    "\n",
    "# action_t0 = episode_log['actions'][0]\n",
    "# action_t1 = episode_log['actions'][1]\n",
    "# action_t0_sq = np.clip((np.tanh(action_t0) + 1)/2, 0.0, 1.0) # squash action\n",
    "# action_t1_sq = np.clip((np.tanh(action_t1) + 1)/2, 0.0, 1.0) # squash action\n",
    "# turn_action_t0 = action_t0_sq[1]\n",
    "# turn_action_t1 = action_t1_sq[1]\n",
    "# # turn_action = 1 - turn_action # invert turn action\n",
    "# # print(f\"turn_action: {turn_action}\")\n",
    "# # # print(f\"action_t0_sq: {action_t0_sq}\")\n",
    "# turn_capacity = 6.25*np.pi\n",
    "# turnx = 1\n",
    "# dt = env_dt = 0.04\n",
    "# # print(f\"turn by {turn_capacity*turnx*(turn_action_t1 - 0.5)*dt} rad\")\n",
    "# my_agent_angle_rad_t1 = agent_angle_rad_t0 + turn_capacity*turnx*(turn_action_t1 - 0.5)*dt # in radians; (Turn~[0, 1], with 0.5 = no turn, <0.5 turn cw, >0.5 turn ccw)\n",
    "# print(f\"sim new angle rad = {my_agent_angle_rad_t1}\")\n",
    "\n",
    "\n"
   ]
  },
  {
   "cell_type": "code",
   "execution_count": 7,
   "id": "afa5cf8d9cf2a145",
   "metadata": {
    "ExecuteTime": {
     "end_time": "2024-12-17T10:35:19.054565Z",
     "start_time": "2024-12-17T10:35:19.038557Z"
    }
   },
   "outputs": [],
   "source": [
    "state_names = [\n",
    "               'v_para',  # parallel ground velocity [m/s]\n",
    "               'v_perp',  # perpendicular ground velocity [m/s]\n",
    "               'phi', # heading [rad]\n",
    "               'w',  # ambient wind speed [m/s]\n",
    "               'zeta',  # ambient wind angle [rad]\n",
    "               ]\n",
    "\n",
    "input_names = ['u_para',  # translational speed [m/s]\n",
    "               'u_phi',  # angular velocity [rad/s]\n",
    "               'u_para_dot'  # translational acceleration [m/s^2] \n",
    "                ]\n",
    "\n",
    "def f(X, U):\n",
    "    '''\n",
    "    Return Xdot given X and U\n",
    "    \n",
    "    X: state vector\n",
    "        v_para: ground velocity in the direction parallel to head direction (egocentric frame) [m/s]\n",
    "        v_perp: ground velocity perpendicular to head direction (egocentric frame) [m/s]\n",
    "        phi: heading [rad]\n",
    "        w: wind speed [m/s]\n",
    "        zeta: wind angle [rad]\n",
    "    U: input vector assuming actions have been squashed and scaled\n",
    "        u_para: translational speed [m/s]\n",
    "        u_phi: angular velocity [rad/s]\n",
    "        u_para_dot: translational acceleration [m/s^2]\n",
    "    '''\n",
    "    # States\n",
    "    v_para, v_perp, phi, w, zeta = X\n",
    "    \n",
    "    # Inputs\n",
    "    u_para, u_phi, u_para_dot = U # keep u_para because it is in the observation matrix\n",
    "    # Scale actions by fly capabilities TODO preprocess trajectory data by squash and scale; see /src/JH_boilerplate/dev_test/env/explore_pkl.ipynb\n",
    "    # u_para = u_para * 2.0 # Max agent speed in m/s\n",
    "    # u_para_dot = u_para_dot * 2.0 # Max agent acceleration in m/s^2\n",
    "    # u_phi = u_phi * 6.25*np.pi # Max agent CW/CCW turn per second\n",
    "    \n",
    "    # Dynamics\n",
    "    w_dot = 0*w # wind speed is constant\n",
    "    zeta_dot = 0*w # wind angle is constant NOTE: may be time varying\n",
    "    phi_dot = u_phi # angular velocity is controlled by agent\n",
    "    v_perp_dot = -w * np.cos(phi - zeta) * u_phi + w * np.cos(phi - zeta) * zeta_dot - w_dot * np.sin(phi - zeta) \n",
    "    v_para_dot = -w * np.sin(phi - zeta) * u_phi + w * np.cos(phi - zeta) * zeta_dot + w_dot * np.cos(phi - zeta) + u_para_dot\n",
    "\n",
    "    # Other dynamics\n",
    "    # x_dot = v_para * np.cos(phi) - v_perp * np.sin(phi)\n",
    "    # y_dot = v_para * np.sin(phi) + v_perp * np.cos(phi)\n",
    "\n",
    "    # Package and return xdot\n",
    "    X_dot = [v_para_dot, v_perp_dot, phi_dot, w_dot, zeta_dot]\n",
    "\n",
    "    return X_dot"
   ]
  },
  {
   "cell_type": "markdown",
   "id": "7d67631fba42a02c",
   "metadata": {},
   "source": [
    "## Define measurement function\n",
    "The measurement function takes in a list of states $X$ and a list of inputs $U$ and outputs the measurements $Y$.\n",
    "\n",
    "The optional measurement names must be in the same order as the measurements in $Y$."
   ]
  },
  {
   "cell_type": "code",
   "execution_count": 8,
   "id": "fd93d3dbf5535e4b",
   "metadata": {
    "ExecuteTime": {
     "end_time": "2024-12-17T10:35:19.069797Z",
     "start_time": "2024-12-17T10:35:19.055558Z"
    }
   },
   "outputs": [],
   "source": [
    "measurement_names = ['phi', 'A_para', 'psi'] # heading, apparent wind parallel component, drift angle/egocentric course angle\n",
    "def h(X, U):\n",
    "    '''\n",
    "    Measurement functions - input is the state and control input; output is the measurement\n",
    "    Assuming control signals are squashed and scaled\n",
    "    '''\n",
    "    # States\n",
    "    v_para, v_perp, phi, w, zeta = X\n",
    "    \n",
    "    # Inputs\n",
    "    u_para, u_phi, u_para_dot = U\n",
    "    \n",
    "    # Measurements\n",
    "    # Heading\n",
    "    phi = phi # heading is directly observable \n",
    "    # Apparent wind\n",
    "    A_para = - u_para # equal and opposite to translational speed which is in line with head direction and thus have only a parallel component\n",
    "    # Course direction in fly reference frame\n",
    "    psi = np.arctan2(v_perp, v_para) # drift angle / egocentric course angle  # TODO numerically check if this is actually the drift angle - yes according to Ben\n",
    "    \n",
    "    # Unwrap angles TODO what is this?\n",
    "    if np.array(phi).ndim > 0:\n",
    "        if np.array(phi).shape[0] > 1:\n",
    "            phi = np.unwrap(phi)\n",
    "            psi = np.unwrap(psi)\n",
    "            # gamma = np.unwrap(gamma)\n",
    "\n",
    "    # Measurements\n",
    "    Y  = [phi, A_para, psi]\n",
    "\n",
    "    # Return measurement\n",
    "    return Y\n"
   ]
  },
  {
   "cell_type": "markdown",
   "id": "4ce822781609ebf9",
   "metadata": {},
   "source": [
    "## Set time-step"
   ]
  },
  {
   "cell_type": "code",
   "execution_count": 9,
   "id": "af1c2296132affea",
   "metadata": {
    "ExecuteTime": {
     "end_time": "2024-12-17T10:35:19.085302Z",
     "start_time": "2024-12-17T10:35:19.070797Z"
    }
   },
   "outputs": [],
   "source": [
    "dt = 0.04  # [s]"
   ]
  },
  {
   "cell_type": "markdown",
   "id": "9aba91f3406a7ff3",
   "metadata": {},
   "source": [
    "# Create simulator object"
   ]
  },
  {
   "cell_type": "code",
   "execution_count": 13,
   "id": "a2ba514ec911b5e9",
   "metadata": {
    "ExecuteTime": {
     "end_time": "2024-12-17T10:35:19.132932Z",
     "start_time": "2024-12-17T10:35:19.086303Z"
    }
   },
   "outputs": [],
   "source": [
    "simulator = Simulator(f, h, dt=dt, state_names=state_names, input_names=input_names, measurement_names=measurement_names)\n",
    "\n",
    "# Can also set the number of state (n) & inputs (m0 instead of state & input names)\n",
    "# simulator = Simulator(f, h, dt=dt, n=len(state_names), m=len(input_names))"
   ]
  },
  {
   "cell_type": "markdown",
   "id": "c392f54a07498b2f",
   "metadata": {},
   "source": [
    "# Load inference-time trajectories "
   ]
  },
  {
   "cell_type": "code",
   "execution_count": 19,
   "id": "7d225c7a",
   "metadata": {},
   "outputs": [
    {
     "name": "stdout",
     "output_type": "stream",
     "text": [
      "Loaded episode logs from /src/data/wind_sensing/apparent_wind_visual_feedback/sw_dist_logstep_wind_0.001_debug_yes_vec_norm_train_actor_std/eval/plume_14421_37e2cd4be4c96943d0341849b40f81eb/constantx5b5.pkl\n",
      "Number of episodes: 240\n",
      "Episodes contain: dict_keys(['trajectory', 'observations', 'actions', 'rewards', 'infos', 'activity'])\n",
      "For more info on pkl content see /src/JH_boilerplate/dev_test/env/explore_pkl.ipynb\n"
     ]
    }
   ],
   "source": [
    "log_fname = '/src/data/wind_sensing/apparent_wind_visual_feedback/sw_dist_logstep_wind_0.001_debug_yes_vec_norm_train_actor_std/eval/plume_14421_37e2cd4be4c96943d0341849b40f81eb/constantx5b5.pkl'\n",
    "# load pkl file\n",
    "import pickle\n",
    "import numpy as np\n",
    "with open(log_fname, 'rb') as f_handle:\n",
    "    episode_logs = pickle.load(f_handle)\n",
    "print('Loaded episode logs from', log_fname)\n",
    "print('Number of episodes:', len(episode_logs))\n",
    "print('Episodes contain:', episode_logs[0].keys())\n",
    "print('For more info on pkl content see /src/JH_boilerplate/dev_test/env/explore_pkl.ipynb')"
   ]
  },
  {
   "cell_type": "code",
   "execution_count": 31,
   "id": "0a16a51c",
   "metadata": {},
   "outputs": [
    {
     "data": {
      "text/plain": [
       "list"
      ]
     },
     "execution_count": 31,
     "metadata": {},
     "output_type": "execute_result"
    }
   ],
   "source": [
    "type(episode_logs[0]['actions'])"
   ]
  },
  {
   "cell_type": "code",
   "execution_count": 34,
   "id": "cc40c5cb",
   "metadata": {},
   "outputs": [],
   "source": [
    "# episode_logs[0]['trajectory'] # x, y locations \n",
    "# episode_logs[0]['observations'] # \n",
    "# episode_logs[0]['actions'] # needs to be squashed \n",
    "# episode_logs[0]['infos'][0][0].keys() # needs to be squashed \n",
    "raw_actions = episode_logs[0]['actions']\n",
    "# TODO: function that squashes and scales actions. output is u_sim a dict with keys 'u_para', 'u_phi', 'u_para_dot', and values are np arrays\n",
    "# stack a list of actions into a 2D array\n",
    "raw_actions = np.stack(raw_actions)\n",
    "\n",
    "def squash_and_scale_actions(raw_actions, dt):\n",
    "  '''\n",
    "  Logged actions are the raw outputs of the agent. They need to be translated into the control inputs for the simulator.\n",
    "  1. Squash the actions to [0, 1]\n",
    "  2. Scale the actions to the fly's capabilities\n",
    "  3. Calculate the translational acceleration - new need to be checked\n",
    "  4. Return a dictionary of control inputs for the simulator\n",
    "  '''\n",
    "  def squash_action(x):\n",
    "    return np.clip((np.tanh(x) + 1)/2, 0.0, 1.0) # squash action, center and scale to [0, 1], per action treatment \n",
    "\n",
    "  if type(raw_actions) is list:\n",
    "    raw_actions = np.stack(raw_actions)\n",
    "    \n",
    "  # Vectorize the function # TODO sanity check\n",
    "  vsquash_action = np.vectorize(squash_action)\n",
    "\n",
    "  # Apply the vectorized function to the array\n",
    "  actions = vsquash_action(raw_actions)\n",
    "\n",
    "  # Scale actions by fly capabilities \n",
    "  actions[:, 0] = actions[:, 0] * 2.0 # Max agent speed in m/s\n",
    "  actions[:, 1] = actions[:, 1] * 6.25*np.pi # Max agent CW/CCW turn per second\n",
    "\n",
    "  # Calculate translational acceleration\n",
    "  acc = np.diff(actions[:, 0]) / dt # TODO check this - new operation \n",
    "  acc = np.insert(acc, 0, 0) # first acceleration is 0\n",
    "  \n",
    "  # Put into a dict\n",
    "  u_sim = {'u_para': actions[:, 0], 'u_phi': actions[:, 1], 'u_para_dot': acc}\n",
    "  \n",
    "  return u_sim\n",
    "\n",
    "u_sim = squash_and_scale_actions(raw_actions, dt)"
   ]
  },
  {
   "cell_type": "markdown",
   "id": "238d4ce232258a9d",
   "metadata": {},
   "source": [
    "# Re-run simulator with MPC inputs\n",
    "This step isn't required, but it shows how the closed-loop MOC inputs can be replayed in open-loop to get the same state trajectory"
   ]
  },
  {
   "cell_type": "code",
   "execution_count": 35,
   "id": "32a99e267401caad",
   "metadata": {
    "ExecuteTime": {
     "end_time": "2024-12-17T10:35:21.531213Z",
     "start_time": "2024-12-17T10:35:21.501211Z"
    }
   },
   "outputs": [],
   "source": [
    "t_sim, x_sim, u_sim, y_sim = simulator.simulate(x0=None, mpc=False, u=u_sim, return_full_output=True)"
   ]
  },
  {
   "cell_type": "code",
   "execution_count": 36,
   "id": "4a9ed9ddffb73216",
   "metadata": {
    "ExecuteTime": {
     "end_time": "2024-12-17T10:35:22.497984Z",
     "start_time": "2024-12-17T10:35:21.532202Z"
    }
   },
   "outputs": [
    {
     "data": {
      "image/png": "[encoded data removed]",
      "text/plain": [
       "<Figure size 600x1125 with 5 Axes>"
      ]
     },
     "metadata": {},
     "output_type": "display_data"
    }
   ],
   "source": [
    "# Plot state\n",
    "simulator.plot('x')"
   ]
  },
  {
   "cell_type": "markdown",
   "id": "f1813a852673708f",
   "metadata": {},
   "source": [
    "# Observability"
   ]
  },
  {
   "cell_type": "markdown",
   "id": "428e7ecd6c29e122",
   "metadata": {},
   "source": [
    "## Construct observability matrix in sliding windows"
   ]
  },
  {
   "cell_type": "code",
   "execution_count": 15,
   "id": "1816060219c9f891",
   "metadata": {
    "ExecuteTime": {
     "end_time": "2024-12-17T10:35:22.513429Z",
     "start_time": "2024-12-17T10:35:22.498972Z"
    }
   },
   "outputs": [],
   "source": [
    "w = 4  # window size, set to None to use entire time-series as one window"
   ]
  },
  {
   "cell_type": "code",
   "execution_count": null,
   "id": "6d3208ab8cebb1f8",
   "metadata": {
    "ExecuteTime": {
     "end_time": "2024-12-17T10:35:25.079497Z",
     "start_time": "2024-12-17T10:35:22.515430Z"
    }
   },
   "outputs": [],
   "source": [
    "# Construct O in sliding windows\n",
    "st = time.time()\n",
    "SEOM = SlidingEmpiricalObservabilityMatrix(simulator, t_sim, x_sim, u_sim, w=w, eps=1e-4)\n",
    "et = time.time()\n",
    "print('elapsed time:', et-st)"
   ]
  },
  {
   "cell_type": "code",
   "execution_count": 17,
   "id": "2ea89c4c3fdd5747",
   "metadata": {
    "ExecuteTime": {
     "end_time": "2024-12-17T10:35:25.094929Z",
     "start_time": "2024-12-17T10:35:25.079497Z"
    }
   },
   "outputs": [],
   "source": [
    "# Get O's\n",
    "O_sliding = SEOM.get_observability_matrix()"
   ]
  },
  {
   "cell_type": "code",
   "execution_count": null,
   "id": "55b15a9e5ad692e2",
   "metadata": {
    "ExecuteTime": {
     "end_time": "2024-12-17T10:35:25.110935Z",
     "start_time": "2024-12-17T10:35:25.095931Z"
    }
   },
   "outputs": [],
   "source": [
    "n_window = len(O_sliding)\n",
    "print(n_window, 'windows')"
   ]
  },
  {
   "cell_type": "code",
   "execution_count": null,
   "id": "1cedf79182d82be0",
   "metadata": {
    "ExecuteTime": {
     "end_time": "2024-12-17T10:35:25.437683Z",
     "start_time": "2024-12-17T10:35:25.111938Z"
    }
   },
   "outputs": [],
   "source": [
    "# Visualize first sliding observability matrix, this will throw errors if O is too big\n",
    "OI = ObservabilityMatrixImage(O_sliding[0], cmap='bwr')\n",
    "OI.plot(scale=1.0)"
   ]
  },
  {
   "cell_type": "markdown",
   "id": "71c0469dc7863680",
   "metadata": {},
   "source": [
    "## Compute Fisher information matrix & inverse for first window\n"
   ]
  },
  {
   "cell_type": "code",
   "execution_count": 20,
   "id": "451fd6cf6383e439",
   "metadata": {
    "ExecuteTime": {
     "end_time": "2024-12-17T10:35:25.453689Z",
     "start_time": "2024-12-17T10:35:25.438686Z"
    }
   },
   "outputs": [],
   "source": [
    "# Set each sensor noise level\n",
    "sensor_noise = {'phi': 0.1, 'psi': 0.1, 'gamma': 0.1, 'a': 0.1, 'g': 0.1, 'r': 0.1}"
   ]
  },
  {
   "cell_type": "code",
   "execution_count": 21,
   "id": "9aaaf5056bf75fed",
   "metadata": {
    "ExecuteTime": {
     "end_time": "2024-12-17T10:35:25.469693Z",
     "start_time": "2024-12-17T10:35:25.454690Z"
    }
   },
   "outputs": [],
   "source": [
    "# Compute the Fisher information & Chernoff inverse\n",
    "FO = FisherObservability(SEOM.O_df_sliding[0], R=None, sensor_noise_dict=sensor_noise, lam=1e-6)\n",
    "\n",
    "# Can also set R directly as matrix or as scalar\n",
    "# FO = FisherObservability(SEOM.O_df_sliding[0], R=0.1*np.eye(O_sliding[0].shape[0]), lam=1e-6)\n",
    "# FO = FisherObservability(SEOM.O_df_sliding[0], R=0.1, lam=1e-6)"
   ]
  },
  {
   "cell_type": "code",
   "execution_count": null,
   "id": "7473d533d4f1910c",
   "metadata": {
    "ExecuteTime": {
     "end_time": "2024-12-17T10:35:25.484720Z",
     "start_time": "2024-12-17T10:35:25.470694Z"
    }
   },
   "outputs": [],
   "source": [
    "# Get the Fisher information, inverse, and R matrix\n",
    "F, F_inv, R = FO.get_fisher_information()\n",
    "F_inv"
   ]
  },
  {
   "cell_type": "markdown",
   "id": "c36ace27d3f55c0f",
   "metadata": {},
   "source": [
    "## Compute Fisher information matrix & inverse for each sliding window"
   ]
  },
  {
   "cell_type": "code",
   "execution_count": 23,
   "id": "94b30b60ed5543e9",
   "metadata": {
    "ExecuteTime": {
     "end_time": "2024-12-17T10:35:25.499573Z",
     "start_time": "2024-12-17T10:35:25.484720Z"
    }
   },
   "outputs": [],
   "source": [
    "# Choose sensors to use from O\n",
    "o_sensors = ['phi', 'psi', 'gamma']\n",
    "\n",
    "# Chose states to use from O\n",
    "o_states = ['v_para', 'v_perp', 'phi', 'phi_dot', 'w', 'zeta', 'z', 'm', 'I', 'C_para', 'C_perp', 'C_phi']\n",
    "\n",
    "# Choose time-steps to use from O\n",
    "window_size = 4\n",
    "o_time_steps = np.arange(0, window_size, step=1)"
   ]
  },
  {
   "cell_type": "code",
   "execution_count": 24,
   "id": "b77d1363934e9933",
   "metadata": {
    "ExecuteTime": {
     "end_time": "2024-12-17T10:35:25.687098Z",
     "start_time": "2024-12-17T10:35:25.500574Z"
    }
   },
   "outputs": [],
   "source": [
    "# Compute the Fisher information & inverse for each window and store the minimum error variance\n",
    "SFO = SlidingFisherObservability(SEOM.O_df_sliding, time=SEOM.t_sim, lam=1e-6, R=None, sensor_noise_dict=sensor_noise,\n",
    "                                 states=o_states, sensors=o_sensors, time_steps=o_time_steps, w=None)"
   ]
  },
  {
   "cell_type": "code",
   "execution_count": 25,
   "id": "bf67c35cfee44ceb",
   "metadata": {
    "ExecuteTime": {
     "end_time": "2024-12-17T10:35:25.702381Z",
     "start_time": "2024-12-17T10:35:25.688100Z"
    }
   },
   "outputs": [],
   "source": [
    "# Pull out minimum error variance, 'time' column is the time vector shifted forward by w/2 and 'time_initial' is the original time\n",
    "EV_aligned = SFO.get_minimum_error_variance()"
   ]
  },
  {
   "cell_type": "code",
   "execution_count": null,
   "id": "c35a1af82e1d008a",
   "metadata": {
    "ExecuteTime": {
     "end_time": "2024-12-17T10:35:25.718380Z",
     "start_time": "2024-12-17T10:35:25.703380Z"
    }
   },
   "outputs": [],
   "source": [
    "EV_aligned"
   ]
  },
  {
   "cell_type": "code",
   "execution_count": null,
   "id": "184d5cc91eca4d6",
   "metadata": {
    "ExecuteTime": {
     "end_time": "2024-12-17T10:35:25.920073Z",
     "start_time": "2024-12-17T10:35:25.719380Z"
    }
   },
   "outputs": [],
   "source": [
    "# Visualize observability matrix subset\n",
    "OI = ObservabilityMatrixImage(SFO.FO[-1].O)\n",
    "OI.plot()"
   ]
  },
  {
   "cell_type": "markdown",
   "id": "24626b76820b9717",
   "metadata": {},
   "source": [
    "# Plot error variance as color on state time-series"
   ]
  },
  {
   "cell_type": "code",
   "execution_count": null,
   "id": "331553b8964df341",
   "metadata": {
    "ExecuteTime": {
     "end_time": "2024-12-17T10:35:25.935072Z",
     "start_time": "2024-12-17T10:35:25.921074Z"
    }
   },
   "outputs": [],
   "source": [
    "EV_no_nan = EV_aligned.fillna(method='bfill').fillna(method='ffill')"
   ]
  },
  {
   "cell_type": "code",
   "execution_count": null,
   "id": "fc7f73e5912fcac5",
   "metadata": {
    "ExecuteTime": {
     "end_time": "2024-12-17T10:35:27.264980Z",
     "start_time": "2024-12-17T10:35:25.936071Z"
    }
   },
   "outputs": [],
   "source": [
    "states = list(SFO.FO[0].O.columns)\n",
    "n_state = len(states)\n",
    "\n",
    "fig, ax = plt.subplots(n_state, 2, figsize=(6, n_state*2), dpi=150)\n",
    "ax = np.atleast_2d(ax)\n",
    "\n",
    "cmap = 'inferno_r'\n",
    "\n",
    "min_ev = np.min(EV_no_nan.iloc[:, 2:].values)\n",
    "max_ev = np.max(EV_no_nan.iloc[:, 2:].values)\n",
    "\n",
    "log_tick_high = int(np.ceil(np.log10(max_ev)))\n",
    "log_tick_low = int(np.floor(np.log10(min_ev)))\n",
    "cnorm = mpl.colors.LogNorm(10**log_tick_low, 10**log_tick_high)\n",
    "\n",
    "for n, state_name in enumerate(states):\n",
    "    # colorline(t_sim, x_sim[state_name], EV_no_nan[state_name].values, ax=ax[n, 0], cmap=cmap, norm=cnorm)\n",
    "    colorline(x_sim['x'], x_sim['y'], EV_no_nan[state_name].values, ax=ax[n, 0], cmap=cmap, norm=cnorm)\n",
    "    colorline(t_sim, EV_no_nan[state_name].values, EV_no_nan[state_name].values, ax=ax[n, 1], cmap=cmap, norm=cnorm)\n",
    "\n",
    "    # Colorbar\n",
    "    cax = ax[n, -1].inset_axes([1.03, 0.0, 0.04, 1.0])\n",
    "    cbar = fig.colorbar(mpl.cm.ScalarMappable(norm=cnorm, cmap=cmap), cax=cax,\n",
    "                        ticks=np.logspace(log_tick_low, log_tick_high, log_tick_high-log_tick_low + 1))\n",
    "    cbar.set_label('min. EV: ' + state_name, rotation=270, fontsize=7, labelpad=8)\n",
    "    cbar.ax.tick_params(labelsize=6)\n",
    "    \n",
    "    ax[n, 0].set_ylim(np.min(x_sim['y']) - 0.01, np.max(x_sim['y']) + 0.01)\n",
    "    ax[n, 0].set_xlim(np.min(x_sim['x']) - 0.01, np.max(x_sim['x']) + 0.01)\n",
    "    ax[n, 0].set_ylabel('y', fontsize=7)\n",
    "    ax[n, 0].set_xlabel('x', fontsize=7)\n",
    "    ax[n, 0].set_aspect(1.0)\n",
    "\n",
    "    ax[n, 1].set_ylim(10**log_tick_low, 10**log_tick_high)\n",
    "    ax[n, 1].set_yscale('log')\n",
    "    ax[n, 1].set_ylabel('min. EV: ' + state_name, fontsize=7)\n",
    "    ax[n, 1].set_yticks(np.logspace(log_tick_low, log_tick_high, log_tick_high-log_tick_low + 1))\n",
    "\n",
    "\n",
    "for a in ax.flat:\n",
    "    a.tick_params(axis='both', labelsize=6)\n",
    "    \n",
    "for a in ax[:, 1]:\n",
    "    a.set_xlabel('time (s)', fontsize=7)\n",
    "    a.set_xlim(-0.1, t_sim[-1] + 0.1)\n",
    "    \n",
    "# for a in ax[:, 1]:\n",
    "#     a.set_xlim(-0.1, t_sim[-1] + 0.1)\n",
    "\n",
    "fig.subplots_adjust(left=None, bottom=None, right=None, top=None, wspace=0.3, hspace=0.4)\n",
    "\n",
    "plt.show()"
   ]
  },
  {
   "cell_type": "code",
   "execution_count": 59,
   "id": "25b2cb62a82362e5",
   "metadata": {
    "ExecuteTime": {
     "end_time": "2024-12-17T10:35:27.280486Z",
     "start_time": "2024-12-17T10:35:27.264980Z"
    }
   },
   "outputs": [],
   "source": []
  }
 ],
 "metadata": {
  "kernelspec": {
   "display_name": "Python 3",
   "language": "python",
   "name": "python3"
  },
  "language_info": {
   "codemirror_mode": {
    "name": "ipython",
    "version": 3
   },
   "file_extension": ".py",
   "mimetype": "text/x-python",
   "name": "python",
   "nbconvert_exporter": "python",
   "pygments_lexer": "ipython3",
   "version": "3.10.12"
  }
 },
 "nbformat": 4,
 "nbformat_minor": 5
}
